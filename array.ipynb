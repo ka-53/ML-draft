{
 "cells": [
  {
   "cell_type": "code",
   "execution_count": 2,
   "metadata": {},
   "outputs": [],
   "source": [
    "import numpy as n"
   ]
  },
  {
   "cell_type": "code",
   "execution_count": 3,
   "metadata": {},
   "outputs": [
    {
     "data": {
      "text/plain": [
       "list"
      ]
     },
     "execution_count": 3,
     "metadata": {},
     "output_type": "execute_result"
    }
   ],
   "source": [
    "ml = [1,2,3]\n",
    "type(ml)"
   ]
  },
  {
   "cell_type": "code",
   "execution_count": 4,
   "metadata": {},
   "outputs": [
    {
     "data": {
      "text/plain": [
       "array([1, 2, 3])"
      ]
     },
     "execution_count": 4,
     "metadata": {},
     "output_type": "execute_result"
    }
   ],
   "source": [
    "n.array(ml)"
   ]
  },
  {
   "cell_type": "code",
   "execution_count": 5,
   "metadata": {},
   "outputs": [
    {
     "data": {
      "text/plain": [
       "[1, 2, 3]"
      ]
     },
     "execution_count": 5,
     "metadata": {},
     "output_type": "execute_result"
    }
   ],
   "source": [
    "ml"
   ]
  },
  {
   "cell_type": "code",
   "execution_count": 6,
   "metadata": {},
   "outputs": [
    {
     "data": {
      "text/plain": [
       "array([1, 2, 3])"
      ]
     },
     "execution_count": 6,
     "metadata": {},
     "output_type": "execute_result"
    }
   ],
   "source": [
    "myarr = n.array(ml)\n",
    "myarr"
   ]
  },
  {
   "cell_type": "code",
   "execution_count": 7,
   "metadata": {},
   "outputs": [
    {
     "data": {
      "text/plain": [
       "numpy.ndarray"
      ]
     },
     "execution_count": 7,
     "metadata": {},
     "output_type": "execute_result"
    }
   ],
   "source": [
    "type(myarr)"
   ]
  },
  {
   "cell_type": "code",
   "execution_count": 8,
   "metadata": {},
   "outputs": [
    {
     "data": {
      "text/plain": [
       "[[1, 2, 3], [4, 5, 6], [7, 8, 9]]"
      ]
     },
     "execution_count": 8,
     "metadata": {},
     "output_type": "execute_result"
    }
   ],
   "source": [
    "my_matrix =[[1,2,3],[4,5,6],[7,8,9]]\n",
    "my_matrix"
   ]
  },
  {
   "cell_type": "code",
   "execution_count": 9,
   "metadata": {},
   "outputs": [
    {
     "data": {
      "text/plain": [
       "array([[1, 2, 3],\n",
       "       [4, 5, 6],\n",
       "       [7, 8, 9]])"
      ]
     },
     "execution_count": 9,
     "metadata": {},
     "output_type": "execute_result"
    }
   ],
   "source": [
    "n.array(my_matrix)"
   ]
  },
  {
   "cell_type": "code",
   "execution_count": 15,
   "metadata": {},
   "outputs": [
    {
     "data": {
      "text/plain": [
       "array([10, 13, 16, 19, 22, 25, 28, 31, 34, 37, 40, 43, 46, 49, 52, 55, 58,\n",
       "       61, 64, 67, 70, 73, 76, 79, 82, 85, 88, 91, 94, 97])"
      ]
     },
     "execution_count": 15,
     "metadata": {},
     "output_type": "execute_result"
    }
   ],
   "source": [
    "n.arange(10,100,3)"
   ]
  },
  {
   "cell_type": "code",
   "execution_count": 16,
   "metadata": {},
   "outputs": [
    {
     "data": {
      "text/plain": [
       "array([0., 0., 0., 0., 0., 0., 0., 0., 0., 0.])"
      ]
     },
     "execution_count": 16,
     "metadata": {},
     "output_type": "execute_result"
    }
   ],
   "source": [
    "n.zeros(10)"
   ]
  },
  {
   "cell_type": "code",
   "execution_count": 18,
   "metadata": {},
   "outputs": [
    {
     "data": {
      "text/plain": [
       "array([[0., 0., 0., 0., 0.],\n",
       "       [0., 0., 0., 0., 0.],\n",
       "       [0., 0., 0., 0., 0.]])"
      ]
     },
     "execution_count": 18,
     "metadata": {},
     "output_type": "execute_result"
    }
   ],
   "source": [
    "n.zeros((3,5))"
   ]
  },
  {
   "cell_type": "code",
   "execution_count": 28,
   "metadata": {},
   "outputs": [
    {
     "data": {
      "text/plain": [
       "array([ 0. ,  2.5,  5. ,  7.5, 10. ])"
      ]
     },
     "execution_count": 28,
     "metadata": {},
     "output_type": "execute_result"
    }
   ],
   "source": [
    "n.linspace(0,10,5) #from 0 to 10 , 5 times "
   ]
  },
  {
   "cell_type": "code",
   "execution_count": 35,
   "metadata": {},
   "outputs": [
    {
     "data": {
      "text/plain": [
       "array([[0., 0., 1., 0., 0., 0., 0., 0., 0., 0.],\n",
       "       [0., 0., 0., 1., 0., 0., 0., 0., 0., 0.],\n",
       "       [0., 0., 0., 0., 1., 0., 0., 0., 0., 0.],\n",
       "       [0., 0., 0., 0., 0., 1., 0., 0., 0., 0.],\n",
       "       [0., 0., 0., 0., 0., 0., 1., 0., 0., 0.],\n",
       "       [0., 0., 0., 0., 0., 0., 0., 1., 0., 0.],\n",
       "       [0., 0., 0., 0., 0., 0., 0., 0., 1., 0.],\n",
       "       [0., 0., 0., 0., 0., 0., 0., 0., 0., 1.],\n",
       "       [0., 0., 0., 0., 0., 0., 0., 0., 0., 0.],\n",
       "       [0., 0., 0., 0., 0., 0., 0., 0., 0., 0.]])"
      ]
     },
     "execution_count": 35,
     "metadata": {},
     "output_type": "execute_result"
    }
   ],
   "source": [
    "n.eye(10,10,2)"
   ]
  },
  {
   "cell_type": "code",
   "execution_count": 40,
   "metadata": {},
   "outputs": [
    {
     "data": {
      "text/plain": [
       "array([[[0.98679114, 0.90429132],\n",
       "        [0.23957177, 0.2390281 ],\n",
       "        [0.74016677, 0.5902819 ],\n",
       "        [0.42028404, 0.3478952 ],\n",
       "        [0.89152421, 0.37500971],\n",
       "        [0.68213545, 0.264858  ],\n",
       "        [0.19518354, 0.71793056],\n",
       "        [0.23325858, 0.45236688],\n",
       "        [0.15449702, 0.27755097],\n",
       "        [0.30248688, 0.50903381]],\n",
       "\n",
       "       [[0.86073986, 0.28890588],\n",
       "        [0.28402139, 0.79521117],\n",
       "        [0.6625422 , 0.32990612],\n",
       "        [0.9854741 , 0.19452597],\n",
       "        [0.52615861, 0.99046804],\n",
       "        [0.71356204, 0.03044588],\n",
       "        [0.54158344, 0.29314511],\n",
       "        [0.71128129, 0.66147726],\n",
       "        [0.12330265, 0.62072024],\n",
       "        [0.55727833, 0.48785456]],\n",
       "\n",
       "       [[0.25497036, 0.78161263],\n",
       "        [0.77771864, 0.50656699],\n",
       "        [0.72796751, 0.08703761],\n",
       "        [0.7155285 , 0.6052037 ],\n",
       "        [0.64908418, 0.6298829 ],\n",
       "        [0.44229917, 0.57869727],\n",
       "        [0.81188135, 0.30671625],\n",
       "        [0.69198419, 0.18192512],\n",
       "        [0.1222913 , 0.02355579],\n",
       "        [0.61680337, 0.61107847]],\n",
       "\n",
       "       [[0.18305569, 0.04487878],\n",
       "        [0.28507577, 0.33537479],\n",
       "        [0.48006276, 0.85818056],\n",
       "        [0.21436981, 0.99104377],\n",
       "        [0.31551795, 0.31290366],\n",
       "        [0.50789798, 0.79393995],\n",
       "        [0.69899231, 0.3529625 ],\n",
       "        [0.6443676 , 0.89762138],\n",
       "        [0.19624908, 0.48769284],\n",
       "        [0.98004901, 0.50792444]],\n",
       "\n",
       "       [[0.74073955, 0.49202447],\n",
       "        [0.49525925, 0.4037605 ],\n",
       "        [0.88751994, 0.98559604],\n",
       "        [0.34218424, 0.36698505],\n",
       "        [0.04329166, 0.40132452],\n",
       "        [0.09168669, 0.96232225],\n",
       "        [0.17739923, 0.60122471],\n",
       "        [0.3258481 , 0.37883544],\n",
       "        [0.06588986, 0.32793519],\n",
       "        [0.82973935, 0.8655529 ]],\n",
       "\n",
       "       [[0.06211382, 0.71948256],\n",
       "        [0.46556968, 0.36769282],\n",
       "        [0.52266283, 0.99271293],\n",
       "        [0.18081653, 0.85317702],\n",
       "        [0.07478641, 0.37805616],\n",
       "        [0.35091535, 0.63641418],\n",
       "        [0.68956091, 0.87735223],\n",
       "        [0.08893364, 0.17482968],\n",
       "        [0.4997034 , 0.91745059],\n",
       "        [0.36201945, 0.11793621]],\n",
       "\n",
       "       [[0.93590353, 0.04344905],\n",
       "        [0.46832815, 0.94952627],\n",
       "        [0.59369989, 0.81293494],\n",
       "        [0.22176348, 0.33857115],\n",
       "        [0.20940039, 0.14937731],\n",
       "        [0.38972822, 0.85964813],\n",
       "        [0.06276232, 0.80736166],\n",
       "        [0.43406588, 0.81619011],\n",
       "        [0.12664006, 0.04549098],\n",
       "        [0.2614849 , 0.89521694]],\n",
       "\n",
       "       [[0.14508206, 0.31043159],\n",
       "        [0.27077676, 0.86796161],\n",
       "        [0.47746949, 0.94052836],\n",
       "        [0.68108962, 0.30552534],\n",
       "        [0.04345785, 0.00181445],\n",
       "        [0.86091102, 0.61731469],\n",
       "        [0.96165455, 0.91572982],\n",
       "        [0.90362219, 0.15375728],\n",
       "        [0.70376467, 0.50349557],\n",
       "        [0.53442095, 0.62475879]],\n",
       "\n",
       "       [[0.4495858 , 0.89972865],\n",
       "        [0.38754639, 0.76365208],\n",
       "        [0.92437127, 0.75294145],\n",
       "        [0.51782186, 0.7128762 ],\n",
       "        [0.24589149, 0.9688009 ],\n",
       "        [0.51685958, 0.8430959 ],\n",
       "        [0.92614912, 0.06327256],\n",
       "        [0.54433527, 0.68576405],\n",
       "        [0.07819189, 0.4076178 ],\n",
       "        [0.68039596, 0.82839228]],\n",
       "\n",
       "       [[0.97644114, 0.3974081 ],\n",
       "        [0.53991353, 0.74307174],\n",
       "        [0.7527969 , 0.21804865],\n",
       "        [0.51163024, 0.92820535],\n",
       "        [0.60001867, 0.14984847],\n",
       "        [0.91416769, 0.31025887],\n",
       "        [0.35918258, 0.57260752],\n",
       "        [0.30606396, 0.41777127],\n",
       "        [0.34465512, 0.31648378],\n",
       "        [0.62865026, 0.29141887]]])"
      ]
     },
     "execution_count": 40,
     "metadata": {},
     "output_type": "execute_result"
    }
   ],
   "source": [
    "n.random.rand(10,10,2)"
   ]
  },
  {
   "cell_type": "code",
   "execution_count": 49,
   "metadata": {},
   "outputs": [
    {
     "data": {
      "text/plain": [
       "17"
      ]
     },
     "execution_count": 49,
     "metadata": {},
     "output_type": "execute_result"
    }
   ],
   "source": [
    "n.random.randint(100)\n"
   ]
  },
  {
   "cell_type": "code",
   "execution_count": 50,
   "metadata": {},
   "outputs": [
    {
     "data": {
      "text/plain": [
       "array([[36, 95, 41],\n",
       "       [96, 31, 57],\n",
       "       [81, 20, 85]])"
      ]
     },
     "execution_count": 50,
     "metadata": {},
     "output_type": "execute_result"
    }
   ],
   "source": [
    "n.random.randint(0,101,(3,3))"
   ]
  },
  {
   "cell_type": "code",
   "execution_count": 52,
   "metadata": {},
   "outputs": [
    {
     "data": {
      "text/plain": [
       "array([0.67286566, 0.04117333, 0.84157413, 0.8165543 , 0.78251141,\n",
       "       0.73526734])"
      ]
     },
     "execution_count": 52,
     "metadata": {},
     "output_type": "execute_result"
    }
   ],
   "source": [
    "n.random.seed(20)\n",
    "n.random.rand(6)\n"
   ]
  },
  {
   "cell_type": "code",
   "execution_count": 62,
   "metadata": {},
   "outputs": [
    {
     "data": {
      "text/plain": [
       "array([ 0,  1,  2,  3,  4,  5,  6,  7,  8,  9, 10, 11, 12, 13, 14, 15, 16,\n",
       "       17, 18, 19, 20, 21, 22, 23, 24, 25, 26, 27, 28, 29, 30, 31, 32, 33,\n",
       "       34, 35, 36, 37, 38, 39, 40, 41, 42, 43, 44, 45, 46, 47, 48, 49, 50,\n",
       "       51, 52, 53, 54, 55, 56, 57, 58, 59, 60, 61, 62, 63, 64, 65, 66, 67,\n",
       "       68, 69, 70, 71, 72, 73, 74, 75, 76, 77, 78, 79, 80, 81, 82, 83, 84,\n",
       "       85, 86, 87, 88, 89, 90, 91, 92, 93, 94, 95, 96, 97, 98, 99])"
      ]
     },
     "execution_count": 62,
     "metadata": {},
     "output_type": "execute_result"
    }
   ],
   "source": [
    "arr = n.arange(100)\n",
    "arr"
   ]
  },
  {
   "cell_type": "code",
   "execution_count": 63,
   "metadata": {},
   "outputs": [
    {
     "data": {
      "text/plain": [
       "array([[ 0,  1,  2,  3,  4,  5,  6,  7,  8,  9],\n",
       "       [10, 11, 12, 13, 14, 15, 16, 17, 18, 19],\n",
       "       [20, 21, 22, 23, 24, 25, 26, 27, 28, 29],\n",
       "       [30, 31, 32, 33, 34, 35, 36, 37, 38, 39],\n",
       "       [40, 41, 42, 43, 44, 45, 46, 47, 48, 49],\n",
       "       [50, 51, 52, 53, 54, 55, 56, 57, 58, 59],\n",
       "       [60, 61, 62, 63, 64, 65, 66, 67, 68, 69],\n",
       "       [70, 71, 72, 73, 74, 75, 76, 77, 78, 79],\n",
       "       [80, 81, 82, 83, 84, 85, 86, 87, 88, 89],\n",
       "       [90, 91, 92, 93, 94, 95, 96, 97, 98, 99]])"
      ]
     },
     "execution_count": 63,
     "metadata": {},
     "output_type": "execute_result"
    }
   ],
   "source": [
    "arr.reshape(10,10)\n"
   ]
  },
  {
   "cell_type": "code",
   "execution_count": null,
   "metadata": {},
   "outputs": [],
   "source": []
  }
 ],
 "metadata": {
  "kernelspec": {
   "display_name": "Python 3",
   "language": "python",
   "name": "python3"
  },
  "language_info": {
   "codemirror_mode": {
    "name": "ipython",
    "version": 3
   },
   "file_extension": ".py",
   "mimetype": "text/x-python",
   "name": "python",
   "nbconvert_exporter": "python",
   "pygments_lexer": "ipython3",
   "version": "3.9.6"
  }
 },
 "nbformat": 4,
 "nbformat_minor": 2
}
